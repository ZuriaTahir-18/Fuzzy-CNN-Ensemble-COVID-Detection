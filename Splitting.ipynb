{
 "cells": [
  {
   "cell_type": "code",
   "execution_count": 29,
   "id": "0183fbf7",
   "metadata": {},
   "outputs": [
    {
     "name": "stdout",
     "output_type": "stream",
     "text": [
      "Current working directory: C:\\Users\\Hamza\\Downloads\\danish_Research_Covid\\COVID-Detection-Gompertz-Function-Ensemble-main\n",
      "Checking path for class 'COVID': data\\COVID\n",
      "Class: COVID\n",
      "Number of images found: 1252\n",
      "Checking path for class 'non-COVID': data\\non-COVID\n",
      "Class: non-COVID\n",
      "Number of images found: 1229\n",
      "Dataset split into training and validation sets successfully.\n"
     ]
    }
   ],
   "source": [
    "import os\n",
    "import shutil\n",
    "from sklearn.model_selection import train_test_split\n",
    "\n",
    "# Path to the main dataset directory\n",
    "main_dir = r'data'  # Since 'data' is in the same directory as the script\n",
    "train_dir = os.path.join(main_dir, 'training')\n",
    "val_dir = os.path.join(main_dir, 'validation')\n",
    "\n",
    "# Ensure we're working in the correct directory\n",
    "print(f\"Current working directory: {os.getcwd()}\")\n",
    "\n",
    "# Create directories for training and validation if they don't exist\n",
    "os.makedirs(train_dir, exist_ok=True)\n",
    "os.makedirs(val_dir, exist_ok=True)\n",
    "\n",
    "# Subdirectories for classes\n",
    "classes = ['COVID', 'non-COVID']\n",
    "\n",
    "for class_name in classes:\n",
    "    class_path = os.path.join(main_dir, class_name)\n",
    "    \n",
    "    # Print the class path for debugging\n",
    "    print(f\"Checking path for class '{class_name}': {class_path}\")\n",
    "    \n",
    "    # Ensure the class_path is a directory\n",
    "    if not os.path.isdir(class_path):\n",
    "        print(f\"Skipping {class_path}, not a directory.\")\n",
    "        continue\n",
    "\n",
    "    images = [img for img in os.listdir(class_path) if img.endswith('.png')]\n",
    "    \n",
    "    # Debugging statements\n",
    "    print(f\"Class: {class_name}\")\n",
    "    print(f\"Number of images found: {len(images)}\")\n",
    "    \n",
    "    # Check if there are enough images to split\n",
    "    if len(images) == 0:\n",
    "        print(f\"No images found in {class_path}. Skipping.\")\n",
    "        continue\n",
    "\n",
    "    # Split the images into training and validation sets\n",
    "    train_images, val_images = train_test_split(images, test_size=0.3, random_state=42)\n",
    "    \n",
    "    # Create class directories in training and validation directories\n",
    "    os.makedirs(os.path.join(train_dir, class_name), exist_ok=True)\n",
    "    os.makedirs(os.path.join(val_dir, class_name), exist_ok=True)\n",
    "    \n",
    "    # Move training images\n",
    "    for image in train_images:\n",
    "        src_path = os.path.join(class_path, image)\n",
    "        dst_path = os.path.join(train_dir, class_name, image)\n",
    "        shutil.copy(src_path, dst_path)\n",
    "    \n",
    "    # Move validation images\n",
    "    for image in val_images:\n",
    "        src_path = os.path.join(class_path, image)\n",
    "        dst_path = os.path.join(val_dir, class_name, image)\n",
    "        shutil.copy(src_path, dst_path)\n",
    "\n",
    "print(\"Dataset split into training and validation sets successfully.\")\n"
   ]
  },
  {
   "cell_type": "code",
   "execution_count": null,
   "id": "fb0b28d8",
   "metadata": {},
   "outputs": [],
   "source": [
    "from utils_ensemble import *\n",
    "import argparse\n",
    "\n",
    "parser = argparse.ArgumentParser()\n",
    "parser.add_argument('--data_directory', type=str, default='./', help='Directory where csv files are stored')\n",
    "parser.add_argument('--topk', type=int, default=2, help='Top-k number of classes')\n",
    "args = parser.parse_args()\n",
    "\n",
    "r1 = r'C:\\Users\\muham\\Downloads\\COVID-Detection-Gompertz-Function-Ensemble-main\\sars-cov-2_csv\\vgg11.csv'\n",
    "r2 = r'C:\\Users\\muham\\Downloads\\COVID-Detection-Gompertz-Function-Ensemble-main\\sars-cov-2_csv\\wideresnet50-2.csv'\n",
    "r3 = r'C:\\Users\\muham\\Downloads\\COVID-Detection-Gompertz-Function-Ensemble-main\\sars-cov-2_csv\\inception.csv'\n",
    "\n",
    "# Define the paths to CSV files\n",
    "csv_files = [\n",
    "    r1,\n",
    "    r2,\n",
    "    r3,\n",
    "]\n",
    "\n",
    "root = args.data_directory\n",
    "if not root.endswith('/'):\n",
    "    root += '/'\n",
    "\n",
    "try:\n",
    "    # Load data from CSV files\n",
    "    data = [getfile(os.path.join(root, file)) for file in csv_files]\n",
    "    if any(data_item is None for data_item in data):\n",
    "        raise FileNotFoundError(\"One or more CSV files not found.\")\n",
    "\n",
    "    # Unpack data\n",
    "    p1, labels = data[0]\n",
    "    p2, _ = data[1]\n",
    "    p3, _ = data[2]\n",
    "\n",
    "    top = args.topk  # top 'k' classes\n",
    "    predictions = Gompertz(top, p1, p2, p3)\n",
    "\n",
    "    # Print shapes for debugging\n",
    "    print(f\"Shapes - predictions: {predictions.shape}, labels: {labels.shape}\")\n",
    "\n",
    "    correct = np.sum(predictions == labels)\n",
    "    total = labels.shape[0]\n",
    "\n",
    "    accuracy = correct / total\n",
    "    print(f\"Accuracy = {accuracy:.4f}\")\n",
    "\n",
    "    classes = list(map(str, range(p1.shape[1])))  # Assuming classes are numbered 0, 1, 2, ..., n-1\n",
    "    metrics(labels, predictions, classes)\n",
    "    plot_roc(labels, predictions)\n",
    "\n",
    "except FileNotFoundError as e:\n",
    "    print(f\"Error: {e}\")\n",
    "except Exception as e:\n",
    "    print(f\"An unexpected error occurred: {e}\")\n"
   ]
  },
  {
   "cell_type": "code",
   "execution_count": 27,
   "id": "9e38dd07",
   "metadata": {},
   "outputs": [
    {
     "name": "stdout",
     "output_type": "stream",
     "text": [
      "Collecting matplotlib==3.2.2\n",
      "  Downloading matplotlib-3.2.2-cp39-cp39-win_amd64.whl (8.9 MB)\n",
      "Note: you may need to restart the kernel to use updated packages.\n"
     ]
    },
    {
     "name": "stderr",
     "output_type": "stream",
     "text": [
      "WARNING: Ignoring invalid distribution -atplotlib (c:\\users\\hamza\\anaconda3\\lib\\site-packages)\n",
      "WARNING: Ignoring invalid distribution -atplotlib (c:\\users\\hamza\\anaconda3\\lib\\site-packages)\n",
      "ERROR: Could not find a version that satisfies the requirement torch==1.8.1+cu101 (from versions: 1.7.1, 1.8.0, 1.8.1, 1.9.0, 1.9.1, 1.10.0, 1.10.1, 1.10.2, 1.11.0, 1.12.0, 1.12.1, 1.13.0, 1.13.1, 2.0.0, 2.0.1, 2.1.0, 2.1.1, 2.1.2, 2.2.0, 2.2.1, 2.2.2, 2.3.0, 2.3.1)\n",
      "ERROR: No matching distribution found for torch==1.8.1+cu101\n",
      "WARNING: Ignoring invalid distribution -atplotlib (c:\\users\\hamza\\anaconda3\\lib\\site-packages)\n",
      "WARNING: Ignoring invalid distribution -atplotlib (c:\\users\\hamza\\anaconda3\\lib\\site-packages)\n",
      "WARNING: Ignoring invalid distribution -atplotlib (c:\\users\\hamza\\anaconda3\\lib\\site-packages)\n"
     ]
    }
   ],
   "source": [
    "pip install -r requirements.txt"
   ]
  },
  {
   "cell_type": "code",
   "execution_count": 28,
   "id": "6e7c8cd4",
   "metadata": {},
   "outputs": [
    {
     "ename": "SyntaxError",
     "evalue": "invalid syntax (605456125.py, line 1)",
     "output_type": "error",
     "traceback": [
      "\u001b[1;36m  Input \u001b[1;32mIn [28]\u001b[1;36m\u001b[0m\n\u001b[1;33m    python main.py --data_directory \"sars-cov-2_csv/\u001b[0m\n\u001b[1;37m           ^\u001b[0m\n\u001b[1;31mSyntaxError\u001b[0m\u001b[1;31m:\u001b[0m invalid syntax\n"
     ]
    }
   ],
   "source": [
    "python main.py --data_directory \"sars-cov-2_csv/"
   ]
  }
 ],
 "metadata": {
  "kernelspec": {
   "display_name": "Python 3 (ipykernel)",
   "language": "python",
   "name": "python3"
  },
  "language_info": {
   "codemirror_mode": {
    "name": "ipython",
    "version": 3
   },
   "file_extension": ".py",
   "mimetype": "text/x-python",
   "name": "python",
   "nbconvert_exporter": "python",
   "pygments_lexer": "ipython3",
   "version": "3.9.12"
  }
 },
 "nbformat": 4,
 "nbformat_minor": 5
}
